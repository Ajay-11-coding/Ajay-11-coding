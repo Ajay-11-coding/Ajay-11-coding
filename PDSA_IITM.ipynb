{
  "nbformat": 4,
  "nbformat_minor": 0,
  "metadata": {
    "colab": {
      "name": "PDSA IITM.ipynb",
      "provenance": [],
      "authorship_tag": "ABX9TyPgmThuKfTifZIX7mUsoIgd",
      "include_colab_link": true
    },
    "kernelspec": {
      "name": "python3",
      "display_name": "Python 3"
    },
    "language_info": {
      "name": "python"
    }
  },
  "cells": [
    {
      "cell_type": "markdown",
      "metadata": {
        "id": "view-in-github",
        "colab_type": "text"
      },
      "source": [
        "<a href=\"https://colab.research.google.com/github/Ajay-11-coding/Ajay-11-coding/blob/main/PDSA_IITM.ipynb\" target=\"_parent\"><img src=\"https://colab.research.google.com/assets/colab-badge.svg\" alt=\"Open In Colab\"/></a>"
      ]
    },
    {
      "cell_type": "markdown",
      "source": [
        "**WEEK-1 **\n"
      ],
      "metadata": {
        "id": "a0zOBDqJDKcn"
      }
    },
    {
      "cell_type": "markdown",
      "source": [
        "## **GRPA-1**"
      ],
      "metadata": {
        "id": "2dRjrJWlE0dq"
      }
    },
    {
      "cell_type": "code",
      "source": [
        "def find_Min_Difference(L,P):\n",
        "    sub_L=[]\n",
        "    final_L=[]\n",
        "    while(len(L)>0): #manually sorting the given list\n",
        "        min=L[0]\n",
        "        for i in range(len(L)):\n",
        "            if(L[i]<min):\n",
        "                min=L[i]\n",
        "        sub_L.append(min) #contains sorted list of L\n",
        "        L.remove(min)\n",
        "        \n",
        "    for i in range(len(sub_L)-P+1):\n",
        "        final_L.append(sub_L[i-1+P]-sub_L[i]) #list that contains all the possible differences\n",
        "    final_L.sort()  #sorting using function \n",
        "    return final_L[0] #returning the least element which is the first one\n",
        "       \n",
        "L=eval(input().strip())\n",
        "P=int(input())\n",
        "print(find_Min_Difference(L,P))"
      ],
      "metadata": {
        "colab": {
          "base_uri": "https://localhost:8080/"
        },
        "id": "_eU04mtYFAHo",
        "outputId": "9eb3476f-d6a8-4f18-875c-d61a741c4bd3"
      },
      "execution_count": 4,
      "outputs": [
        {
          "output_type": "stream",
          "name": "stdout",
          "text": [
            "[3,4,1,9,56,7,9,12] \n",
            "5\n",
            "6\n"
          ]
        }
      ]
    }
  ]
}